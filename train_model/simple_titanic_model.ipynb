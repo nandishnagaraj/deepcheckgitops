{
 "cells": [
  {
   "cell_type": "code",
   "execution_count": 1,
   "metadata": {},
   "outputs": [],
   "source": [
    "import pandas as pd\n",
    "\n",
    "import sys\n",
    "import os\n",
    "from pathlib import Path \n",
    "dir_path = os.path.dirname(os.path.abspath(''))\n",
    "sys.path.append(dir_path)\n",
    "import dc_get_assets\n",
    "import deepchecks.tabular as dct\n"
   ]
  },
  {
   "cell_type": "code",
   "execution_count": 2,
   "metadata": {},
   "outputs": [],
   "source": [
    "label_column_name = \"Survived\"\n",
    "features = [\"Pclass\", \"Sex_male\", \"SibSp\", \"Parch\"]\n",
    "\n",
    "def make_titanic_simple_features_df(df):\n",
    "    # make df only with simple features:\n",
    "    org_features = [\"Pclass\", \"Sex\", \"SibSp\", \"Parch\"]\n",
    "    label_col = df[label_column_name]\n",
    "    # get only desired features\n",
    "    df = pd.get_dummies(df[org_features], drop_first = True)\n",
    "    # add label\n",
    "    df[label_column_name] = label_col\n",
    "    return df"
   ]
  },
  {
   "cell_type": "code",
   "execution_count": 4,
   "metadata": {},
   "outputs": [],
   "source": [
    "from sklearn.model_selection import train_test_split\n",
    "\n",
    "# use only train data from kaggle because it has labels, and split to train-test\n",
    "# data can be downloaded from here: https://www.kaggle.com/competitions/titanic/data\n",
    "titanic = pd.read_csv(\"kaggle_titanic_data/train.csv\")\n",
    "train_data, test_data  = train_test_split(titanic, test_size=0.3, random_state=17)\n",
    "\n",
    "df_train = make_titanic_simple_features_df(train_data)\n",
    "df_test = make_titanic_simple_features_df(test_data)"
   ]
  },
  {
   "cell_type": "code",
   "execution_count": 5,
   "metadata": {},
   "outputs": [],
   "source": [
    "from deepchecks.tabular import Dataset\n",
    "train_ds = Dataset(df_train, cat_features=features, label=label_column_name)\n",
    "test_ds = Dataset(df_test, cat_features=features, label=label_column_name)"
   ]
  },
  {
   "cell_type": "code",
   "execution_count": 6,
   "metadata": {},
   "outputs": [],
   "source": [
    "# initiate a simple model for training\n",
    "# preprocessing and model is similar to: https://www.kaggle.com/code/alexisbcook/titanic-tutorial\n",
    "from sklearn.ensemble import RandomForestClassifier \n",
    "rf = RandomForestClassifier(n_estimators=100, max_depth=5, random_state=1)\n",
    "\n",
    "rf.fit(train_ds.features_columns, train_ds.label_col);"
   ]
  },
  {
   "cell_type": "code",
   "execution_count": 7,
   "metadata": {},
   "outputs": [],
   "source": [
    "from deepchecks.tabular.suites import model_evaluation\n",
    "\n",
    "eval_results = model_evaluation().run(train_ds, test_ds, rf)\n",
    "# lets see the suite's output\n",
    "eval_results.save_as_html('correct.html');"
   ]
  },
  {
   "cell_type": "code",
   "execution_count": 8,
   "metadata": {},
   "outputs": [],
   "source": [
    "# code for jumbling up labels/samples by mistake \"because of numpy\"\n",
    "\n",
    "import numpy as np\n",
    "optimized_df_test = test_ds.data\n",
    "optimized_df_test[test_ds.label_name] = np.array(test_ds.data[test_ds.label_name].sample(frac=1))\n",
    "optimized_test_ds = test_ds.copy(optimized_df_test) \n",
    "model_eval_results = model_evaluation().run(train_ds, optimized_test_ds, rf)\n",
    "# lets see the suite's output\n",
    "model_eval_results.save_as_html('numpy.html');"
   ]
  },
  {
   "cell_type": "code",
   "execution_count": 9,
   "metadata": {},
   "outputs": [],
   "source": [
    "## uncomment this cell to run from the assets uploaded to the s3 bucket\n",
    "\n",
    "# train_ds = dc_get_assets.get_train_ds()\n",
    "# test_ds = dc_get_assets.get_test_ds()\n",
    "\n",
    "# ###### The following is relevant only if we have the original_titanic train and test datasets #######\n",
    "\n",
    "# # def get_only_simple_features_df(df):\n",
    "# #     # make df only with simple features:\n",
    "# #     org_features = [\"Pclass\", \"Sex\", \"SibSp\", \"Parch\"]\n",
    "# #     # get only desired features\n",
    "# #     df = pd.get_dummies(df[org_features], drop_first = True)\n",
    "# #     # add label\n",
    "# #     return df\n",
    "\n",
    "\n",
    "# # def make_new_ds(df, org_ds):\n",
    "# #     return dct.Dataset(df, cat_features=df.columns, features=df.columns, label=org_ds.label_col)\n",
    "\n",
    "# # train_data = get_only_simple_features_df(train_ds.data)\n",
    "# # test_data = get_only_simple_features_df(test_ds.data)\n",
    "# # new_train_ds = make_new_ds(train_data, train_ds)\n",
    "# # new_test_ds = make_new_ds(test_data, test_ds)\n",
    "\n",
    "# ####### otherwise just do the following: #####\n",
    "# new_train_ds = train_ds\n",
    "# new_test_ds = test_ds\n",
    "\n",
    "# ###########################################\n",
    "\n",
    "# rf.fit(new_train_ds.features_columns, new_train_ds.label_col)\n",
    "\n",
    "# from deepchecks.tabular.suites import model_evaluation\n",
    "# model_eval_results = model_evaluation().run(new_train_ds, new_test_ds, rf)\n",
    "\n",
    "\n",
    "# # jumble labels/samples by mistake because of numpy\n",
    "# import numpy as np\n",
    "# optimized_test_df = new_test_ds.data\n",
    "# optimized_test_df[new_test_ds.label_name] = np.array(new_test_ds.data[new_test_ds.label_name].sample(frac=1))\n",
    "# optimized_test_ds = new_test_ds.copy(optimized_test_df) \n",
    "# model_eval_results = model_evaluation().run(new_train_ds, optimized_test_ds, rf)\n",
    "# model_eval_results.save_as_html()\n",
    "\n",
    "# # save all\n",
    "# import joblib\n",
    "# joblib.dump(model, filename='titanic_rf.model')\n",
    "# new_train_ds.data.to_csv('titanic_train.csv', index=False)\n",
    "# new_test_ds.data.to_csv('titanic_test.csv', index=False)"
   ]
  }
 ],
 "metadata": {
  "kernelspec": {
   "display_name": "venv",
   "language": "python",
   "name": "python3"
  },
  "language_info": {
   "codemirror_mode": {
    "name": "ipython",
    "version": 3
   },
   "file_extension": ".py",
   "mimetype": "text/x-python",
   "name": "python",
   "nbconvert_exporter": "python",
   "pygments_lexer": "ipython3",
   "version": "3.9.16"
  },
  "orig_nbformat": 4
 },
 "nbformat": 4,
 "nbformat_minor": 2
}
